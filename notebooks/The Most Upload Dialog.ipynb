{
 "cells": [
  {
   "cell_type": "code",
   "execution_count": 9,
   "id": "f4ee5536-1380-4366-88c5-d56f26856a8a",
   "metadata": {},
   "outputs": [],
   "source": [
    "import os\n",
    "import sys\n",
    "from pathlib import Path\n",
    "sys.path.append('../')\n",
    "from most import MostClient\n",
    "from most.types import Dialog"
   ]
  },
  {
   "cell_type": "code",
   "execution_count": 2,
   "id": "18820f42-3006-4521-9c20-e672d959ba7d",
   "metadata": {},
   "outputs": [],
   "source": [
    "client = MostClient()"
   ]
  },
  {
   "cell_type": "code",
   "execution_count": 5,
   "id": "33c55936-4fac-4197-8e5c-ebedb1352288",
   "metadata": {},
   "outputs": [
    {
     "data": {
      "text/plain": [
       "[Audio(id='679d8ca0622635f50d545796', url='https://cdn.the-most.ai/mostai/6772997ac61f32b88d0978a9/107526880.mp3')]"
      ]
     },
     "execution_count": 5,
     "metadata": {},
     "output_type": "execute_result"
    }
   ],
   "source": [
    "audios = client.list_audios()\n",
    "audios"
   ]
  },
  {
   "cell_type": "code",
   "execution_count": 6,
   "id": "b0f79b2e-7fe8-4d28-a1af-cb0ef87d7980",
   "metadata": {},
   "outputs": [],
   "source": [
    "client = client.list_models()[0]"
   ]
  },
  {
   "cell_type": "code",
   "execution_count": 12,
   "id": "002f52c6-d85b-4b79-a47f-c51d6ca3d92f",
   "metadata": {},
   "outputs": [
    {
     "data": {
      "text/plain": [
       "DialogResult(id='679d8ca0622635f50d545796', dialog=Dialog(segments=[]), url='https://cdn.the-most.ai/mostai/6772997ac61f32b88d0978a9/107526880.mp3', results=None)"
      ]
     },
     "execution_count": 12,
     "metadata": {},
     "output_type": "execute_result"
    }
   ],
   "source": [
    "client.update_dialog(audios[0].id, Dialog([]))"
   ]
  }
 ],
 "metadata": {
  "kernelspec": {
   "display_name": "Python 3 (ipykernel)",
   "language": "python",
   "name": "python3"
  },
  "language_info": {
   "codemirror_mode": {
    "name": "ipython",
    "version": 3
   },
   "file_extension": ".py",
   "mimetype": "text/x-python",
   "name": "python",
   "nbconvert_exporter": "python",
   "pygments_lexer": "ipython3",
   "version": "3.10.15"
  }
 },
 "nbformat": 4,
 "nbformat_minor": 5
}
