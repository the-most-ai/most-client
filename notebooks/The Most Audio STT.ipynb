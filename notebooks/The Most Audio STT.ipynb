{
 "cells": [
  {
   "cell_type": "code",
   "execution_count": 1,
   "id": "9dcd98f4-22f5-4042-9b5b-8201c7ceb584",
   "metadata": {},
   "outputs": [],
   "source": [
    "import os\n",
    "import sys\n",
    "from pathlib import Path\n",
    "sys.path.append('../')\n",
    "from most import MostClient"
   ]
  },
  {
   "cell_type": "code",
   "execution_count": 2,
   "id": "df23eb02-220a-45a2-a7e0-4ec1fcbea33a",
   "metadata": {},
   "outputs": [],
   "source": [
    "client = MostClient(model_id=\"most-67ebccad691330291add5bdd\")"
   ]
  },
  {
   "cell_type": "code",
   "execution_count": 14,
   "id": "0647eb59-6d91-4859-8d13-8c54c3c792af",
   "metadata": {},
   "outputs": [
    {
     "data": {
      "text/plain": [
       "DialogResult(id='68098d2ee4a392e925c13e82', dialog=Dialog(segments=[DialogSegment(start_time_ms=2480, end_time_ms=3179, text='Вань привет.', speaker='Спикер Б', emotion=None, intensity=None), DialogSegment(start_time_ms=3360, end_time_ms=4250, text='Да, привет.', speaker='Спикер А', emotion=None, intensity=None), DialogSegment(start_time_ms=5200, end_time_ms=9580, text='На линии Ипэшник хочет оформить заказ для компании.', speaker='Спикер Б', emotion=None, intensity=None), DialogSegment(start_time_ms=10260, end_time_ms=11179, text='Переведи, пожалуйста.', speaker='Спикер А', emotion=None, intensity=None), DialogSegment(start_time_ms=11320, end_time_ms=12660, text='Зовут Людмила Перевожу.', speaker='Спикер Б', emotion=None, intensity=None), DialogSegment(start_time_ms=16320, end_time_ms=24740, text='Людмила, добрый день, это Иван, менеджер, би, ту би, интернет, магазин, диван, точка ру. Отдел по работе с юридическими лицами. Подскажите, какой у вас вопрос, да, добрый день?', speaker='Спикер А', emotion=None, intensity=None), DialogSegment(start_time_ms=23779, end_time_ms=26039, text='Да добрый день, Иван, подскажите, пожалуйста?', speaker='Спикер Б', emotion=None, intensity=None), DialogSegment(start_time_ms=24840, end_time_ms=28420, text='Иван, подскажите, пожалуйста, я хочу сделать заказ в вашем магазине.', speaker='Спикер А', emotion=None, intensity=None), DialogSegment(start_time_ms=26140, end_time_ms=33200, text='Я хочу сделать заказ у вас в магазине, но я работаю, как ИП с НДС, вот что мне нужно сделать.', speaker='Спикер Б', emotion=None, intensity=None), DialogSegment(start_time_ms=30800, end_time_ms=51899, text='Угу, Угу, для для этого потребуется направить карточку. Организации могут открыть с вами диалог либо Ватсап, либо телеграмм для того, чтобы продублировали реквизиты и также продублировали. Информацию по поводу списка изделий, которые рассматриваете к приобретению адрес доставки необходимость подъема и сборки, соответственно, составлю за вами заказ и направлю вам счет на оплату, так?', speaker='Спикер А', emotion=None, intensity=None), DialogSegment(start_time_ms=52880, end_time_ms=63490, text='Так хорошо, я вот в данный момент просто не могу сделать. Я там за рулем, да, а так без проблем. Я так же вам звоню, прошу соединить и как бы можно через Ватсап уже работать да с вами.', speaker='Спикер Б', emotion=None, intensity=None), DialogSegment(start_time_ms=63719, end_time_ms=70360, text='Я могу вам сейчас написать вотсап либо в телеграмм направить условия сотрудничества. Как только освободитесь, можете мне просто все направить, хорошо? Хорошо.', speaker='Спикер А', emotion=None, intensity=None), DialogSegment(start_time_ms=70540, end_time_ms=71860, text='Хорошо давайте.', speaker='Спикер Б', emotion=None, intensity=None), DialogSegment(start_time_ms=71659, end_time_ms=81020, text='Давайте подскажите, пожалуйста, вы данные изделия приобретать будете, а для нужд организации, с каким видом деятельности, либо вы на перепродаже приобретаете.', speaker='Спикер А', emotion=None, intensity=None), DialogSegment(start_time_ms=81000, end_time_ms=82240, text='Не не не для личных.', speaker='Спикер Б', emotion=None, intensity=None), DialogSegment(start_time_ms=83300, end_time_ms=84710, text='Для личных то, что ж, все я вас понял.', speaker='Спикер А', emotion=None, intensity=None), DialogSegment(start_time_ms=84640, end_time_ms=86090, text='Угу угу.', speaker='Спикер Б', emotion=None, intensity=None), DialogSegment(start_time_ms=85720, end_time_ms=97600, text='В таком случае, когда 1 условия сотрудничества действует накопительная система, скидок, минимальная скидка составляет 5%. % накоплении общей суммы заказов от я сейчас вам условия продублирую будем с вами на связи.', speaker='Спикер А', emotion=None, intensity=None), DialogSegment(start_time_ms=98200, end_time_ms=99420, text='Хорошо, спасибо большое. Хорошо.', speaker='Спикер Б', emotion=None, intensity=None), DialogSegment(start_time_ms=100009, end_time_ms=102500, text='Все большое спасибо хорошего дня до свидания.', speaker='Спикер А', emotion=None, intensity=None), DialogSegment(start_time_ms=101340, end_time_ms=103180, text='Угу, до свидания. Угу.', speaker='Спикер Б', emotion=None, intensity=None)]), url='https://bc2cf9a7-70b1-41f2-88ad-a47588b0eaa0.selstorage.ru/2025/4/23/2025-04-23-09:54:36_79251150805_754_MjM0NzIyNjQ0Nzk=.mp3', results=None)"
      ]
     },
     "execution_count": 14,
     "metadata": {},
     "output_type": "execute_result"
    }
   ],
   "source": [
    "client.transcribe_later(\"68098d2ee4a392e925c13e82\")"
   ]
  },
  {
   "cell_type": "code",
   "execution_count": null,
   "id": "02f3e405-4793-464c-bec1-a86d059be457",
   "metadata": {},
   "outputs": [],
   "source": []
  }
 ],
 "metadata": {
  "kernelspec": {
   "display_name": "Python 3 (ipykernel)",
   "language": "python",
   "name": "python3"
  },
  "language_info": {
   "codemirror_mode": {
    "name": "ipython",
    "version": 3
   },
   "file_extension": ".py",
   "mimetype": "text/x-python",
   "name": "python",
   "nbconvert_exporter": "python",
   "pygments_lexer": "ipython3",
   "version": "3.10.15"
  }
 },
 "nbformat": 4,
 "nbformat_minor": 5
}
