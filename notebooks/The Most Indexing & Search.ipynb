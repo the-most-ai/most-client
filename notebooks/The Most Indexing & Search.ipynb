{
 "cells": [
  {
   "cell_type": "code",
   "execution_count": 1,
   "id": "4979691d-e1a1-4e60-b6e6-3136240f3292",
   "metadata": {},
   "outputs": [],
   "source": [
    "import os\n",
    "import sys\n",
    "from pathlib import Path\n",
    "sys.path.append('../')\n",
    "from most import MostClient"
   ]
  },
  {
   "cell_type": "code",
   "execution_count": 2,
   "id": "62a57a1f-48db-464e-9534-4d9a4f650aba",
   "metadata": {},
   "outputs": [],
   "source": [
    "client = MostClient(model_id=\"most-67ebccad691330291add5bdd\")"
   ]
  },
  {
   "cell_type": "code",
   "execution_count": 5,
   "id": "eef10761-0d7f-49c6-9ba7-0f322084b4b2",
   "metadata": {},
   "outputs": [],
   "source": [
    "for audio in client.list_audios():\n",
    "    client.index_audio(audio.id)"
   ]
  },
  {
   "cell_type": "code",
   "execution_count": 14,
   "id": "e1289690-53a8-46f9-b671-cbf96f0afcb4",
   "metadata": {},
   "outputs": [
    {
     "name": "stdout",
     "output_type": "stream",
     "text": [
      "Светлана Викторовна, добрый день, меня зовут Иван Менеджер Би Ту Би. Интернет магазина, диван, точка ру мне передали информацию. Касаемо того, что вы хотели бы путем аукциона приобрести у нас. А изделия диваны вас интересуют, все верно?\n",
      "Тимур добрый день да звонит клиент, его интересует диван. Линия проконсультируете.\n",
      "Да скажите, вот меня интересует 2 вещи. На сайте это диван раскладной лилии. А и кресло кровать тоже.\n",
      "И меня интересует, да, да?\n",
      "Здравствуйте, Интернет, магазин, диван, точка ру, менеджер Анна, чем могу помочь вам.\n",
      "Добрый день, компания, диван, точка ру, менеджер Никита. Чем могу вам помочь, да здравствуйте, а интересует нас офисное кресло Трэй и с игры, а?\n",
      "Какое изделие вас интересует?\n",
      "Диван тоже в Инстаграме.\n",
      "Да, меня меня интересует только задняя стенка, потому что у меня там розетки.\n",
      "Меня интересует только боковая стенка, угу все спасибо.\n"
     ]
    }
   ],
   "source": [
    "for result in client.search_by_indexed_audio(\"интересует диван\", limit=10):\n",
    "    print(result['text'])"
   ]
  },
  {
   "cell_type": "code",
   "execution_count": null,
   "id": "38fa0c28-ae8c-4ca9-a16f-8189166e6642",
   "metadata": {},
   "outputs": [],
   "source": []
  }
 ],
 "metadata": {
  "kernelspec": {
   "display_name": "Python 3 (ipykernel)",
   "language": "python",
   "name": "python3"
  },
  "language_info": {
   "codemirror_mode": {
    "name": "ipython",
    "version": 3
   },
   "file_extension": ".py",
   "mimetype": "text/x-python",
   "name": "python",
   "nbconvert_exporter": "python",
   "pygments_lexer": "ipython3",
   "version": "3.10.15"
  }
 },
 "nbformat": 4,
 "nbformat_minor": 5
}
