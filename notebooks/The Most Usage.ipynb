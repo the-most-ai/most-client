{
 "cells": [
  {
   "cell_type": "code",
   "execution_count": 1,
   "id": "0b2adeab-33c0-4c1e-8ec3-244a3da57515",
   "metadata": {},
   "outputs": [],
   "source": [
    "import os\n",
    "import sys\n",
    "from pathlib import Path\n",
    "sys.path.append('../')\n",
    "from most import MostClient\n",
    "from tqdm import tqdm\n",
    "from pprint import pp\n",
    "from datetime import datetime, timedelta, timezone"
   ]
  },
  {
   "cell_type": "code",
   "execution_count": 6,
   "id": "bfaa1c1c-48c5-4fee-a503-379f8c57c285",
   "metadata": {},
   "outputs": [],
   "source": [
    "client = MostClient(model_id=\"most-67ebccad691330291add5bdd\")"
   ]
  },
  {
   "cell_type": "code",
   "execution_count": 7,
   "id": "08ba021e-8bc9-4df6-a544-d41ebad1b839",
   "metadata": {},
   "outputs": [
    {
     "data": {
      "text/plain": [
       "Usage(apply_audio_async=0, apply_audio_async_duration=0, apply_text_async=0, apply_audio=0, apply_audio_duration=0, apply_text=0, upload_audio=0, upload_audio_duration=0, upload_text=0, start_dt=datetime.datetime(2025, 4, 14, 9, 37, 12, 422459, tzinfo=datetime.timezone.utc), end_dt=datetime.datetime(2025, 4, 15, 9, 37, 12, 422476, tzinfo=datetime.timezone.utc))"
      ]
     },
     "execution_count": 7,
     "metadata": {},
     "output_type": "execute_result"
    }
   ],
   "source": [
    "client.get_usage(start_dt=datetime.now(tz=timezone.utc) - timedelta(days=1), \n",
    "                 end_dt=datetime.now(tz=timezone.utc))"
   ]
  },
  {
   "cell_type": "code",
   "execution_count": null,
   "id": "d94615a9-d748-4efc-b52a-036fde07deae",
   "metadata": {},
   "outputs": [],
   "source": []
  }
 ],
 "metadata": {
  "kernelspec": {
   "display_name": "Python 3 (ipykernel)",
   "language": "python",
   "name": "python3"
  },
  "language_info": {
   "codemirror_mode": {
    "name": "ipython",
    "version": 3
   },
   "file_extension": ".py",
   "mimetype": "text/x-python",
   "name": "python",
   "nbconvert_exporter": "python",
   "pygments_lexer": "ipython3",
   "version": "3.10.15"
  }
 },
 "nbformat": 4,
 "nbformat_minor": 5
}
