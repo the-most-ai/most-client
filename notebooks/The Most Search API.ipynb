{
 "cells": [
  {
   "cell_type": "code",
   "execution_count": 6,
   "id": "7430cac5-76ea-452a-9db2-000ee8ed1cb8",
   "metadata": {},
   "outputs": [],
   "source": [
    "import os\n",
    "import sys\n",
    "from pathlib import Path\n",
    "sys.path.append('../')\n",
    "from most import MostClient, MostSearcher\n",
    "from most.types import SearchParams, IDCondition, StoredInfoCondition"
   ]
  },
  {
   "cell_type": "code",
   "execution_count": 2,
   "id": "7a45ed79-2025-4b18-8e5e-94e6d4b46e4b",
   "metadata": {},
   "outputs": [],
   "source": [
    "client = MostClient(model_id=\"most-67ebccad691330291add5bdd\")\n",
    "searcher = MostSearcher(client, data_source=\"audio\")"
   ]
  },
  {
   "cell_type": "code",
   "execution_count": 9,
   "id": "e9d1835d-af33-4ba8-9fa0-46f871b45ca9",
   "metadata": {},
   "outputs": [
    {
     "name": "stdout",
     "output_type": "stream",
     "text": [
      "Энгельманд Наталия Максимовна\n",
      "Энгельманд Наталия Максимовна\n",
      "Энгельманд Наталия Максимовна\n",
      "Энгельманд Наталия Максимовна\n",
      "Энгельманд Наталия Максимовна\n",
      "Энгельманд Наталия Максимовна\n",
      "Энгельманд Наталия Максимовна\n",
      "Энгельманд Наталия Максимовна\n",
      "Энгельманд Наталия Максимовна\n",
      "Энгельманд Наталия Максимовна\n"
     ]
    }
   ],
   "source": [
    "for audio in searcher.search(filter=SearchParams(must=[StoredInfoCondition(key=\"manager\",\n",
    "                                                                            match=\"Энгельманд Наталия Максимовна\")])):\n",
    "    print(client.fetch_info(audio.id).data['manager'])"
   ]
  },
  {
   "cell_type": "code",
   "execution_count": 6,
   "id": "363f8833-41c4-417b-bc01-12a6a5345bbc",
   "metadata": {},
   "outputs": [
    {
     "data": {
      "text/plain": [
       "['Абдуллаева Халима Хаямы Кызы']"
      ]
     },
     "execution_count": 6,
     "metadata": {},
     "output_type": "execute_result"
    }
   ],
   "source": [
    "searcher.distinct(\"manager\")[2:3]"
   ]
  },
  {
   "cell_type": "code",
   "execution_count": null,
   "id": "8059b12d-0d5c-4bc7-9f0e-be37a8649a10",
   "metadata": {},
   "outputs": [],
   "source": []
  },
  {
   "cell_type": "code",
   "execution_count": null,
   "id": "0630d4ac-5f4d-41a0-9959-3980ad42e640",
   "metadata": {},
   "outputs": [],
   "source": []
  },
  {
   "cell_type": "code",
   "execution_count": null,
   "id": "39202a1a-538d-4ac7-be9f-db197ce89077",
   "metadata": {},
   "outputs": [],
   "source": []
  }
 ],
 "metadata": {
  "kernelspec": {
   "display_name": "Python 3 (ipykernel)",
   "language": "python",
   "name": "python3"
  },
  "language_info": {
   "codemirror_mode": {
    "name": "ipython",
    "version": 3
   },
   "file_extension": ".py",
   "mimetype": "text/x-python",
   "name": "python",
   "nbconvert_exporter": "python",
   "pygments_lexer": "ipython3",
   "version": "3.10.15"
  }
 },
 "nbformat": 4,
 "nbformat_minor": 5
}
