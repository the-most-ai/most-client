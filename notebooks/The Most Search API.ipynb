{
 "cells": [
  {
   "cell_type": "code",
   "execution_count": 1,
   "id": "7430cac5-76ea-452a-9db2-000ee8ed1cb8",
   "metadata": {},
   "outputs": [],
   "source": [
    "import os\n",
    "import sys\n",
    "from pathlib import Path\n",
    "sys.path.append('../')\n",
    "from most import MostClient, SearchParams, IDCondition, StoredInfoCondition, ResultsCondition, MostSearcher"
   ]
  },
  {
   "cell_type": "code",
   "execution_count": 2,
   "id": "7a45ed79-2025-4b18-8e5e-94e6d4b46e4b",
   "metadata": {},
   "outputs": [],
   "source": [
    "client = MostClient(model_id=\"most-67ebccad691330291add5bdd\")\n",
    "searcher = MostSearcher(client, data_source=\"audio\")"
   ]
  },
  {
   "cell_type": "code",
   "execution_count": 3,
   "id": "a765d750-89ce-423d-87d1-494ff5aae960",
   "metadata": {},
   "outputs": [
    {
     "data": {
      "text/plain": [
       "Script(columns=[Column(name='Возможные возражения клиента', subcolumns=['Очень долгий срок доставки, мне это не подходит..', 'Очень дорого выходит доставка...', 'Мне не подходит по размеру (цвету, дизайну) ни один из предложенных вариантов дивана (шкафа, кровати, кресла и т.д.)', 'Хочу съездить в шоу рум оценить качество мебели, посмотреть ткани вживую, посмотреть механизм раскладывания и т.д.', 'Посмотрю/закажу на озоне (Ямаркете или вайлдбериз)', 'Сейчас идет ремонт в доме (квартире) и в ближайшее время заказывать не планирую, просто выбираю мебель.', 'Мне нужно посоветоваться с женой (мужем, дочерью, сыном) и т.д.', 'Перезванивать не нужно, я сам выберу и оставлю заказ на сайте', 'Нужна мебель по своим размерам (индивидуальная мебель)', 'Прочие причины отказа от оформления заказа'])])"
      ]
     },
     "execution_count": 3,
     "metadata": {},
     "output_type": "execute_result"
    }
   ],
   "source": [
    "script = client.get_model_script()\n",
    "script"
   ]
  },
  {
   "cell_type": "code",
   "execution_count": 4,
   "id": "e9d1835d-af33-4ba8-9fa0-46f871b45ca9",
   "metadata": {},
   "outputs": [
    {
     "name": "stdout",
     "output_type": "stream",
     "text": [
      "67bc1667748956b6cc27d233 Энгельманд Наталия Максимовна\n",
      "67bc1679748956b6cc27dd78 Энгельманд Наталия Максимовна\n",
      "67bc1685748956b6cc27e9ba Энгельманд Наталия Максимовна\n",
      "67bc1685748956b6cc27ea30 Энгельманд Наталия Максимовна\n",
      "67bc1685748956b6cc27eabb Энгельманд Наталия Максимовна\n",
      "67bc1686748956b6cc27eae2 Энгельманд Наталия Максимовна\n",
      "67e13ff502dcbdfc34b1f9de Энгельманд Наталия Максимовна\n",
      "67e1401902dcbdfc34b21800 Энгельманд Наталия Максимовна\n",
      "67eb96715d93693a8822ada1 Энгельманд Наталия Максимовна\n",
      "67ec8c305d8359bebb191389 Энгельманд Наталия Максимовна\n"
     ]
    }
   ],
   "source": [
    "for audio in searcher.search(filter=SearchParams(must=[StoredInfoCondition(key=\"manager\",\n",
    "                                                                            match=\"Энгельманд Наталия Максимовна\")])):\n",
    "    print(audio.id, client.fetch_info(audio.id).data['manager'])"
   ]
  },
  {
   "cell_type": "code",
   "execution_count": 5,
   "id": "363f8833-41c4-417b-bc01-12a6a5345bbc",
   "metadata": {},
   "outputs": [
    {
     "data": {
      "text/plain": [
       "['Абдуллаева Халима Хаямы Кызы']"
      ]
     },
     "execution_count": 5,
     "metadata": {},
     "output_type": "execute_result"
    }
   ],
   "source": [
    "searcher.distinct(\"manager\")[2:3]"
   ]
  },
  {
   "cell_type": "code",
   "execution_count": 12,
   "id": "9298d775-dadb-4f65-a205-36124b78e853",
   "metadata": {},
   "outputs": [
    {
     "name": "stdout",
     "output_type": "stream",
     "text": [
      "Энгельманд Наталия Максимовна\n",
      "SubcolumnResult(name='Очень долгий срок доставки, мне это не подходит..', score=0, description='0')\n"
     ]
    }
   ],
   "source": [
    "for audio in searcher.search(filter=SearchParams(must=[StoredInfoCondition(key=\"manager\",\n",
    "                                                                           match=\"Энгельманд Наталия Максимовна\"),\n",
    "                                                       IDCondition(equal=\"67bc1667748956b6cc27d233\")])):\n",
    "    print(client.fetch_info(audio.id).data['manager'])\n",
    "    print(client.fetch_results(audio.id).results[0].subcolumns[0])"
   ]
  },
  {
   "cell_type": "code",
   "execution_count": 15,
   "id": "8059b12d-0d5c-4bc7-9f0e-be37a8649a10",
   "metadata": {},
   "outputs": [
    {
     "name": "stdout",
     "output_type": "stream",
     "text": [
      "Энгельманд Наталия Максимовна\n",
      "SubcolumnResult(name='Очень долгий срок доставки, мне это не подходит..', score=0, description='0')\n"
     ]
    }
   ],
   "source": [
    "for audio in searcher.search(filter=SearchParams(must=[StoredInfoCondition(key=\"manager\",\n",
    "                                                                           match=\"Энгельманд Наталия Максимовна\"),\n",
    "                                                       IDCondition(equal=\"67bc1667748956b6cc27d233\"),\n",
    "                                                       script.create_results_condition(model_id=client.model_id,\n",
    "                                                                                       column=\"Возможные возражения клиента\",\n",
    "                                                                                       subcolumn=\"Очень долгий срок доставки, мне это не подходит..\",\n",
    "                                                                                       score_equal=0)])):\n",
    "    print(client.fetch_info(audio.id).data['manager'])\n",
    "    print(client.fetch_results(audio.id).results[0].subcolumns[0])"
   ]
  },
  {
   "cell_type": "code",
   "execution_count": 16,
   "id": "0630d4ac-5f4d-41a0-9959-3980ad42e640",
   "metadata": {},
   "outputs": [
    {
     "name": "stdout",
     "output_type": "stream",
     "text": [
      "Энгельманд Наталия Максимовна\n",
      "SubcolumnResult(name='Очень долгий срок доставки, мне это не подходит..', score=0, description='0')\n",
      "Ляпина Анастасия Григорьевна\n",
      "SubcolumnResult(name='Очень долгий срок доставки, мне это не подходит..', score=0, description='Клиент не выразил явного негатива из-за долгой доставки. Он сказал: \"Пока еще нет\" в ответ на предложение оформить заказ, но не упомянул о сроках доставки.')\n",
      "Лихачёв Рустам Русланович\n",
      "SubcolumnResult(name='Очень долгий срок доставки, мне это не подходит..', score=0, description='Клиент не выразил явного негатива по поводу долгой доставки. Он просто сказал: \"Ладно, все спасибо, ничего не надо, спасибо до свидания.\"')\n",
      "Мартынова Анастасия \n",
      "SubcolumnResult(name='Очень долгий срок доставки, мне это не подходит..', score=0, description='0')\n",
      "nan\n",
      "SubcolumnResult(name='Очень долгий срок доставки, мне это не подходит..', score=0, description='Клиент не выразил явного негатива по поводу долгой доставки. Он просто сказал: \"Да, да, Обсудим, нет, нет.\" Это не указывает на то, что он не хочет оформлять заказ из-за долгой доставки.')\n",
      "Дружинин Алексей Сергеевич\n",
      "SubcolumnResult(name='Очень долгий срок доставки, мне это не подходит..', score=0, description='Клиент не выразил явного негатива по поводу долгой доставки. Он сказал: \"Да, да, совершенно верно, а как?\" и \"Не нет, я понимаю, ну мне посмотреть надо, да и, естественно, в.\" Это не указывает на то, что он не хочет оформлять заказ из-за долгой доставки.')\n",
      "Козлов Иван\n",
      "SubcolumnResult(name='Очень долгий срок доставки, мне это не подходит..', score=0, description='0')\n",
      "Годорожа Анастасия Ивановна\n",
      "SubcolumnResult(name='Очень долгий срок доставки, мне это не подходит..', score=0, description='0')\n",
      "Кириллова Татьяна Михайловна\n",
      "SubcolumnResult(name='Очень долгий срок доставки, мне это не подходит..', score=0, description='Клиент не выразил явного негатива из-за долгой доставки. Он сказал: \"Я определюсь, только когда, как вы сказали, буду ли я 500 р платить за доставку и посмотреть за то, что посмотреть или нет.\" Это не указывает на то, что он считает доставку долгой, а скорее на его нежелание платить за доставку без уверенности в покупке.')\n",
      "Мартынова Анастасия \n",
      "SubcolumnResult(name='Очень долгий срок доставки, мне это не подходит..', score=0, description='[0] Правило не подтверждается. Клиент не выразил явный негатив из-за долгой доставки. Она сказала: \"Не ну желательно сегодня, ну чтобы побыстрее до 4\", что указывает на предпочтение более быстрой доставки, но не на негатив по поводу долгой.')\n"
     ]
    }
   ],
   "source": [
    "for audio in searcher.search(filter=SearchParams(must=[script.create_results_condition(model_id=client.model_id,\n",
    "                                                                                       column=\"Возможные возражения клиента\",\n",
    "                                                                                       subcolumn=\"Очень долгий срок доставки, мне это не подходит..\",\n",
    "                                                                                       score_equal=0)])):\n",
    "    print(client.fetch_info(audio.id).data['manager'])\n",
    "    print(client.fetch_results(audio.id).results[0].subcolumns[0])"
   ]
  },
  {
   "cell_type": "code",
   "execution_count": null,
   "id": "39202a1a-538d-4ac7-be9f-db197ce89077",
   "metadata": {},
   "outputs": [],
   "source": []
  }
 ],
 "metadata": {
  "kernelspec": {
   "display_name": "Python 3 (ipykernel)",
   "language": "python",
   "name": "python3"
  },
  "language_info": {
   "codemirror_mode": {
    "name": "ipython",
    "version": 3
   },
   "file_extension": ".py",
   "mimetype": "text/x-python",
   "name": "python",
   "nbconvert_exporter": "python",
   "pygments_lexer": "ipython3",
   "version": "3.10.15"
  }
 },
 "nbformat": 4,
 "nbformat_minor": 5
}
