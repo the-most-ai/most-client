{
 "cells": [
  {
   "cell_type": "code",
   "execution_count": 1,
   "id": "ca74e806-dd89-46e1-8f65-288371ad0376",
   "metadata": {},
   "outputs": [],
   "source": [
    "import os\n",
    "import sys\n",
    "from pathlib import Path\n",
    "sys.path.append('../')\n",
    "from most import MostClient"
   ]
  },
  {
   "cell_type": "code",
   "execution_count": 2,
   "id": "f939448a-60ed-4fdb-82fb-bf9092b73d9c",
   "metadata": {},
   "outputs": [],
   "source": [
    "client = MostClient()"
   ]
  },
  {
   "cell_type": "code",
   "execution_count": 4,
   "id": "d35edc87-b1a6-4145-a5fa-6f71e25e15e3",
   "metadata": {},
   "outputs": [
    {
     "data": {
      "text/plain": [
       "[Audio(id='67bc1689748956b6cc27ed7f', url='https://bc2cf9a7-70b1-41f2-88ad-a47588b0eaa0.selstorage.ru/2025/1/31/2025-01-31-21:36:55_79932277189_358_MjI3NzIxNTY5Njk=.mp3'),\n",
       " Audio(id='67bc1689748956b6cc27ed69', url='https://bc2cf9a7-70b1-41f2-88ad-a47588b0eaa0.selstorage.ru/2025/1/31/2025-01-31-21:18:46_79253614979_358_MjI3NzIxMjcwNzY=.mp3'),\n",
       " Audio(id='67bc1688748956b6cc27ed4d', url='https://bc2cf9a7-70b1-41f2-88ad-a47588b0eaa0.selstorage.ru/2025/1/31/2025-01-31-21:05:13_79657856078_361_MjI3NzIxMDQxMjE=.mp3'),\n",
       " Audio(id='67bc1688748956b6cc27ed41', url='https://bc2cf9a7-70b1-41f2-88ad-a47588b0eaa0.selstorage.ru/2025/1/31/2025-01-31-20:29:40_79773640513_353_MjI3NzIwMjEyODQ=.mp3'),\n",
       " Audio(id='67bc1688748956b6cc27ed24', url='https://bc2cf9a7-70b1-41f2-88ad-a47588b0eaa0.selstorage.ru/2025/1/31/2025-01-31-19:44:22_348_79060847526_MjI3NzE4ODA5MzE=.mp3'),\n",
       " Audio(id='67bc1688748956b6cc27ece4', url='https://bc2cf9a7-70b1-41f2-88ad-a47588b0eaa0.selstorage.ru/2025/1/31/2025-01-31-18:40:18_79210827792_332_MjI3NzE1NDI1NjA=.mp3'),\n",
       " Audio(id='67bc1688748956b6cc27ecc6', url='https://bc2cf9a7-70b1-41f2-88ad-a47588b0eaa0.selstorage.ru/2025/1/31/2025-01-31-17:30:54_79658553795_754_MjI3NzA5ODkyMzQ=.mp3'),\n",
       " Audio(id='67bc1688748956b6cc27ec94', url='https://bc2cf9a7-70b1-41f2-88ad-a47588b0eaa0.selstorage.ru/2025/1/31/2025-01-31-17:35:47_79811918092_353_MjI3NzEwMzk3Mjc=.mp3'),\n",
       " Audio(id='67bc1688748956b6cc27ec63', url='https://bc2cf9a7-70b1-41f2-88ad-a47588b0eaa0.selstorage.ru/2025/1/31/2025-01-31-17:38:02_79234119091_360_MjI3NzEwNjI4Nzg=.mp3'),\n",
       " Audio(id='67bc1688748956b6cc27ec50', url='https://bc2cf9a7-70b1-41f2-88ad-a47588b0eaa0.selstorage.ru/2025/1/31/2025-01-31-17:35:11_79257851929_332_MjI3NzEwMzMyNDg=.mp3')]"
      ]
     },
     "execution_count": 4,
     "metadata": {},
     "output_type": "execute_result"
    }
   ],
   "source": [
    "client.list_audios()"
   ]
  },
  {
   "cell_type": "code",
   "execution_count": 5,
   "id": "7a2dbcce-9d82-44f5-8503-9c35c74e807d",
   "metadata": {},
   "outputs": [],
   "source": [
    "audio = client.list_audios()[0]"
   ]
  },
  {
   "cell_type": "code",
   "execution_count": 6,
   "id": "445fbd65-e1ed-407d-97e7-37df5954e14b",
   "metadata": {},
   "outputs": [
    {
     "data": {
      "text/plain": [
       "StoredAudioData(id='67bc1689748956b6cc27ed7f', data={})"
      ]
     },
     "execution_count": 6,
     "metadata": {},
     "output_type": "execute_result"
    }
   ],
   "source": [
    "client.store_info(audio.id, {\"tag\": \"my audio\"})"
   ]
  },
  {
   "cell_type": "code",
   "execution_count": 7,
   "id": "e7d95029-1a67-4315-a3f5-7fcbd435490d",
   "metadata": {},
   "outputs": [
    {
     "data": {
      "text/plain": [
       "StoredAudioData(id='67bc1689748956b6cc27ed7f', data={})"
      ]
     },
     "execution_count": 7,
     "metadata": {},
     "output_type": "execute_result"
    }
   ],
   "source": [
    "client.fetch_info(audio.id)"
   ]
  },
  {
   "cell_type": "code",
   "execution_count": null,
   "id": "c29e38e0-3556-4d5f-b09d-95b5f8fa0e97",
   "metadata": {},
   "outputs": [],
   "source": []
  }
 ],
 "metadata": {
  "kernelspec": {
   "display_name": "Python 3 (ipykernel)",
   "language": "python",
   "name": "python3"
  },
  "language_info": {
   "codemirror_mode": {
    "name": "ipython",
    "version": 3
   },
   "file_extension": ".py",
   "mimetype": "text/x-python",
   "name": "python",
   "nbconvert_exporter": "python",
   "pygments_lexer": "ipython3",
   "version": "3.10.15"
  }
 },
 "nbformat": 4,
 "nbformat_minor": 5
}
