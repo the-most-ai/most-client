{
 "cells": [
  {
   "cell_type": "code",
   "id": "ca74e806-dd89-46e1-8f65-288371ad0376",
   "metadata": {
    "ExecuteTime": {
     "end_time": "2025-09-26T12:31:02.005882Z",
     "start_time": "2025-09-26T12:31:01.101696Z"
    }
   },
   "source": [
    "import os\n",
    "import sys\n",
    "from pathlib import Path\n",
    "sys.path.append('../')\n",
    "from most import MostClient"
   ],
   "outputs": [],
   "execution_count": 1
  },
  {
   "cell_type": "code",
   "id": "f939448a-60ed-4fdb-82fb-bf9092b73d9c",
   "metadata": {
    "ExecuteTime": {
     "end_time": "2025-09-26T12:34:52.181756Z",
     "start_time": "2025-09-26T12:34:51.910490Z"
    }
   },
   "source": [
    "client = MostClient()"
   ],
   "outputs": [],
   "execution_count": 3
  },
  {
   "metadata": {
    "ExecuteTime": {
     "end_time": "2025-09-26T12:35:07.248935Z",
     "start_time": "2025-09-26T12:35:07.018503Z"
    }
   },
   "cell_type": "code",
   "source": "text_obj = client.upload_text(\"Hello world\")",
   "id": "319853b91bd43230",
   "outputs": [],
   "execution_count": 4
  },
  {
   "metadata": {
    "ExecuteTime": {
     "end_time": "2025-09-26T12:35:10.351792Z",
     "start_time": "2025-09-26T12:35:10.347014Z"
    }
   },
   "cell_type": "code",
   "source": "text_obj.id",
   "id": "1724b7a17763aeaf",
   "outputs": [
    {
     "data": {
      "text/plain": [
       "'68d6887b1bd38fbb917c3114'"
      ]
     },
     "execution_count": 5,
     "metadata": {},
     "output_type": "execute_result"
    }
   ],
   "execution_count": 5
  },
  {
   "metadata": {
    "ExecuteTime": {
     "end_time": "2025-09-26T12:35:25.745141Z",
     "start_time": "2025-09-26T12:35:25.466878Z"
    }
   },
   "cell_type": "code",
   "source": "client.store_text_info(text_obj.id, {\"hello\": \"world\"})",
   "id": "d8f4daf2b90d0cbf",
   "outputs": [
    {
     "data": {
      "text/plain": [
       "StoredTextData(id='68d6887b1bd38fbb917c3114', data={'hello': 'world'}, results=None)"
      ]
     },
     "execution_count": 6,
     "metadata": {},
     "output_type": "execute_result"
    }
   ],
   "execution_count": 6
  },
  {
   "metadata": {
    "ExecuteTime": {
     "end_time": "2025-09-26T12:35:35.789110Z",
     "start_time": "2025-09-26T12:35:35.521714Z"
    }
   },
   "cell_type": "code",
   "source": "client.fetch_text_info(text_obj.id,)",
   "id": "29a3edfbd6611539",
   "outputs": [
    {
     "data": {
      "text/plain": [
       "StoredTextData(id='68d6887b1bd38fbb917c3114', data={'hello': 'world'}, results=None)"
      ]
     },
     "execution_count": 7,
     "metadata": {},
     "output_type": "execute_result"
    }
   ],
   "execution_count": 7
  },
  {
   "cell_type": "code",
   "execution_count": 3,
   "id": "d35edc87-b1a6-4145-a5fa-6f71e25e15e3",
   "metadata": {},
   "outputs": [
    {
     "data": {
      "text/plain": [
       "[Audio(id='68214834a8890cb51925755f', url='https://bc2cf9a7-70b1-41f2-88ad-a47588b0eaa0.selstorage.ru/2025/5/11/2025-05-11-11:50:10_352_79618785848_MjM2MDM2NTk0MTI=.mp3'),\n",
       " Audio(id='68214834a8890cb519257553', url='https://bc2cf9a7-70b1-41f2-88ad-a47588b0eaa0.selstorage.ru/2025/5/11/2025-05-11-11:27:53_79955932659_352_MjM2MDM1MTUzNTQ=.mp3'),\n",
       " Audio(id='68214834a8890cb519257549', url='https://bc2cf9a7-70b1-41f2-88ad-a47588b0eaa0.selstorage.ru/2025/5/11/2025-05-11-10:21:53_79258868888_357_MjM2MDMxMTU4OTg=.mp3'),\n",
       " Audio(id='68214833a8890cb51925747e', url='https://bc2cf9a7-70b1-41f2-88ad-a47588b0eaa0.selstorage.ru/2025/5/11/2025-05-11-09:24:14_79659425945_368_MjM2MDI4MzU0NDM=.mp3'),\n",
       " Audio(id='68214833a8890cb5192573b9', url='https://bc2cf9a7-70b1-41f2-88ad-a47588b0eaa0.selstorage.ru/2025/5/11/2025-05-11-13:32:30_79209913240_363_MjM2MDQyNjc2NTI=.mp3'),\n",
       " Audio(id='68214833a8890cb519257353', url='https://bc2cf9a7-70b1-41f2-88ad-a47588b0eaa0.selstorage.ru/2025/5/11/2025-05-11-16:52:45_79060368240_367_MjM2MDUyOTU0MzA=.mp3'),\n",
       " Audio(id='68214833a8890cb519257347', url='https://bc2cf9a7-70b1-41f2-88ad-a47588b0eaa0.selstorage.ru/2025/5/11/2025-05-11-10:47:56_79888748521_355_MjM2MDMyNjM2NDc=.mp3'),\n",
       " Audio(id='68214833a8890cb51925733e', url='https://bc2cf9a7-70b1-41f2-88ad-a47588b0eaa0.selstorage.ru/2025/5/11/2025-05-11-10:46:38_79260109755_342_MjM2MDMyNjQ0MDE=.mp3'),\n",
       " Audio(id='68214832a8890cb51925729b', url='https://bc2cf9a7-70b1-41f2-88ad-a47588b0eaa0.selstorage.ru/2025/5/11/2025-05-11-10:14:58_79616150235_366_MjM2MDMwNzYxODY=.mp3'),\n",
       " Audio(id='68214832a8890cb5192571e3', url='https://bc2cf9a7-70b1-41f2-88ad-a47588b0eaa0.selstorage.ru/2025/5/11/2025-05-11-13:56:50_79154780813_357_MjM2MDQ0MDcwMTE=.mp3')]"
      ]
     },
     "execution_count": 3,
     "metadata": {},
     "output_type": "execute_result"
    }
   ],
   "source": [
    "client.list_audios()"
   ]
  },
  {
   "cell_type": "code",
   "execution_count": 4,
   "id": "7a2dbcce-9d82-44f5-8503-9c35c74e807d",
   "metadata": {},
   "outputs": [],
   "source": [
    "audio = client.list_audios()[0]"
   ]
  },
  {
   "cell_type": "code",
   "execution_count": 8,
   "id": "445fbd65-e1ed-407d-97e7-37df5954e14b",
   "metadata": {},
   "outputs": [
    {
     "data": {
      "text/plain": [
       "StoredAudioData(id='68214834a8890cb51925755f', data={'manager': 'Фоминых Нелля Николаевна', 'manager_group': 'Смена Макаровой Анастасии', 'phone_number': '79618785848', 'request_code': '00000130108', 'request_date': '2025-05-11 11:53:14', 'request_source': 'Телефонный звонок', 'tag': 1.1})"
      ]
     },
     "execution_count": 8,
     "metadata": {},
     "output_type": "execute_result"
    }
   ],
   "source": [
    "client.store_info(audio.id, {\"tag\": 1.1})"
   ]
  },
  {
   "cell_type": "code",
   "execution_count": 9,
   "id": "e7d95029-1a67-4315-a3f5-7fcbd435490d",
   "metadata": {},
   "outputs": [
    {
     "data": {
      "text/plain": [
       "StoredAudioData(id='68214834a8890cb51925755f', data={'manager': 'Фоминых Нелля Николаевна', 'manager_group': 'Смена Макаровой Анастасии', 'phone_number': '79618785848', 'request_code': '00000130108', 'request_date': '2025-05-11 11:53:14', 'request_source': 'Телефонный звонок', 'tag': 1.1, 'duration': 154.008, 'channels': 2})"
      ]
     },
     "execution_count": 9,
     "metadata": {},
     "output_type": "execute_result"
    }
   ],
   "source": [
    "client.fetch_info(audio.id)"
   ]
  },
  {
   "cell_type": "code",
   "execution_count": 10,
   "id": "c29e38e0-3556-4d5f-b09d-95b5f8fa0e97",
   "metadata": {},
   "outputs": [],
   "source": [
    "from adaptix import Retort, loader\n",
    "from datetime import datetime\n",
    "from typing import Dict, Union\n",
    "retort = Retort(recipe=[\n",
    "    \n",
    "    loader(int, lambda x: x if isinstance(x, int) else int(x)),\n",
    "    loader(float, lambda x: x if isinstance(x, float) else float(x)),\n",
    "    loader(datetime, lambda x: datetime.fromtimestamp(x).astimezone(tz=timezone.utc) if isinstance(x, (int, float)) else datetime.fromisoformat(x)),\n",
    "],)\n"
   ]
  },
  {
   "cell_type": "code",
   "execution_count": 11,
   "id": "e84bb38e-a504-4344-9922-af00d7ac0317",
   "metadata": {},
   "outputs": [
    {
     "name": "stderr",
     "output_type": "stream",
     "text": [
      "  + Exception Group Traceback (most recent call last):\n",
      "  |   File \"/Users/kaspar_george/.pyenv/versions/3.10.15/Library/Frameworks/Python.framework/Versions/3.10/lib/python3.10/site-packages/IPython/core/interactiveshell.py\", line 3579, in run_code\n",
      "  |     exec(code_obj, self.user_global_ns, self.user_ns)\n",
      "  |   File \"/var/folders/7w/bwcnvm7j0pnfmy5vb6t4zgx40000gn/T/ipykernel_66683/1006951452.py\", line 1, in <module>\n",
      "  |     retort.load({'key': 'val'}, Dict[str, Union[str, int, float]])\n",
      "  |   File \"/Users/kaspar_george/.pyenv/versions/3.10.15/Library/Frameworks/Python.framework/Versions/3.10/lib/python3.10/site-packages/adaptix/_internal/morphing/facade/retort.py\", line 296, in load\n",
      "  |     return self.get_loader(tp)(data)\n",
      "  |   File \"/Users/kaspar_george/.pyenv/versions/3.10.15/Library/Frameworks/Python.framework/Versions/3.10/lib/python3.10/site-packages/adaptix/_internal/morphing/dict_provider.py\", line 138, in dict_loader_dt_all\n",
      "  |     raise CompatExceptionGroup(\n",
      "  | exceptiongroup.ExceptionGroup: while loading <class 'dict'> (1 sub-exception)\n",
      "  +-+---------------- 1 ----------------\n",
      "    | Exception Group Traceback (most recent call last):\n",
      "    |   File \"/Users/kaspar_george/.pyenv/versions/3.10.15/Library/Frameworks/Python.framework/Versions/3.10/lib/python3.10/site-packages/adaptix/_internal/morphing/dict_provider.py\", line 126, in dict_loader_dt_all\n",
      "    |     loaded_value = value_loader(v)\n",
      "    |   File \"/Users/kaspar_george/.pyenv/versions/3.10.15/Library/Frameworks/Python.framework/Versions/3.10/lib/python3.10/site-packages/adaptix/_internal/morphing/generic_provider.py\", line 463, in union_loader_dt_all\n",
      "    |     raise CompatExceptionGroup(f\"while loading {tp}\", errors)\n",
      "    | exceptiongroup.ExceptionGroup: while loading typing.Union[str, int, float] (2 sub-exceptions)\n",
      "    | Exception was caused at ['key']\n",
      "    +-+---------------- 1 ----------------\n",
      "      | Traceback (most recent call last):\n",
      "      |   File \"/Users/kaspar_george/.pyenv/versions/3.10.15/Library/Frameworks/Python.framework/Versions/3.10/lib/python3.10/site-packages/adaptix/_internal/morphing/generic_provider.py\", line 452, in union_loader_dt_all\n",
      "      |     result = loader(data)\n",
      "      |   File \"/var/folders/7w/bwcnvm7j0pnfmy5vb6t4zgx40000gn/T/ipykernel_66683/3497137849.py\", line 6, in <lambda>\n",
      "      |     loader(float, lambda x: x if isinstance(x, float) else float(x)),\n",
      "      | ValueError: could not convert string to float: 'val'\n",
      "      +---------------- 2 ----------------\n",
      "      | Traceback (most recent call last):\n",
      "      |   File \"/Users/kaspar_george/.pyenv/versions/3.10.15/Library/Frameworks/Python.framework/Versions/3.10/lib/python3.10/site-packages/adaptix/_internal/morphing/generic_provider.py\", line 452, in union_loader_dt_all\n",
      "      |     result = loader(data)\n",
      "      |   File \"/var/folders/7w/bwcnvm7j0pnfmy5vb6t4zgx40000gn/T/ipykernel_66683/3497137849.py\", line 5, in <lambda>\n",
      "      |     loader(int, lambda x: x if isinstance(x, int) else int(x)),\n",
      "      | ValueError: invalid literal for int() with base 10: 'val'\n",
      "      +------------------------------------\n"
     ]
    }
   ],
   "source": [
    "retort.load({'key': 'val'}, Dict[str, Union[str, int, float]])"
   ]
  },
  {
   "cell_type": "code",
   "execution_count": null,
   "id": "3154465e-59c6-4eb8-98f7-8fd911afc092",
   "metadata": {},
   "outputs": [],
   "source": []
  }
 ],
 "metadata": {
  "kernelspec": {
   "display_name": "Python 3 (ipykernel)",
   "language": "python",
   "name": "python3"
  },
  "language_info": {
   "codemirror_mode": {
    "name": "ipython",
    "version": 3
   },
   "file_extension": ".py",
   "mimetype": "text/x-python",
   "name": "python",
   "nbconvert_exporter": "python",
   "pygments_lexer": "ipython3",
   "version": "3.10.15"
  }
 },
 "nbformat": 4,
 "nbformat_minor": 5
}
