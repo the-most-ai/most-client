{
 "cells": [
  {
   "cell_type": "code",
   "execution_count": 1,
   "id": "9ef7567a-b164-45d7-b122-50a536555316",
   "metadata": {},
   "outputs": [],
   "source": [
    "import os\n",
    "import sys\n",
    "from pathlib import Path\n",
    "sys.path.append('../')\n",
    "from most import MostClient, Trainer\n",
    "from tqdm import tqdm"
   ]
  },
  {
   "cell_type": "code",
   "execution_count": 2,
   "id": "ef695d69-d437-491f-9393-69ab3006f193",
   "metadata": {},
   "outputs": [],
   "source": [
    "most = MostClient(model_id=\"most-67dd66116a535f1fc33d6ca7\")"
   ]
  },
  {
   "cell_type": "code",
   "execution_count": 3,
   "id": "44d7e95c-c709-4e6e-9bd2-b1c4786b5443",
   "metadata": {},
   "outputs": [],
   "source": [
    "trainer = Trainer(most)"
   ]
  },
  {
   "cell_type": "code",
   "execution_count": 4,
   "id": "fc81e207-2d5a-487c-b21f-1c54fbc6bb5b",
   "metadata": {},
   "outputs": [
    {
     "data": {
      "text/plain": [
       "<most.trainer_api.Trainer at 0x108e5cf70>"
      ]
     },
     "execution_count": 4,
     "metadata": {},
     "output_type": "execute_result"
    }
   ],
   "source": [
    "trainer.fit(trainer.get_data_points()[:3])"
   ]
  },
  {
   "cell_type": "code",
   "execution_count": 5,
   "id": "1f8f8921-9e21-4fe6-ae43-c41cccc926d9",
   "metadata": {},
   "outputs": [
    {
     "name": "stdout",
     "output_type": "stream",
     "text": [
      "[HumanFeedback(data_point_id='67c87d339c48436509b658d5', data_point_type='audio', column_name='Приветствие и корректность общения', subcolumn_name='Озвучил компанию, должность, и представился по имени (сделал это внятно и разборчиво)', score=0, description=''), HumanFeedback(data_point_id='67bd9874748956b6cc271fe8', data_point_type='audio', column_name='Приветствие и корректность общения', subcolumn_name='Озвучил компанию, должность, и представился по имени (сделал это внятно и разборчиво)', score=0, description=''), HumanFeedback(data_point_id='67bc1689748956b6cc27ed7f', data_point_type='audio', column_name='Приветствие и корректность общения', subcolumn_name='Озвучил компанию, должность, и представился по имени (сделал это внятно и разборчиво)', score=0, description='')]\n",
      "[HumanFeedback(data_point_id='67c87d339c48436509b658d5', data_point_type='audio', column_name='Приветствие и корректность общения', subcolumn_name='Озвучил компанию, должность, и представился по имени (сделал это внятно и разборчиво)', score=0, description=''), HumanFeedback(data_point_id='67bd9874748956b6cc271fe8', data_point_type='audio', column_name='Приветствие и корректность общения', subcolumn_name='Озвучил компанию, должность, и представился по имени (сделал это внятно и разборчиво)', score=0, description=''), HumanFeedback(data_point_id='67bc1689748956b6cc27ed7f', data_point_type='audio', column_name='Приветствие и корректность общения', subcolumn_name='Озвучил компанию, должность, и представился по имени (сделал это внятно и разборчиво)', score=0, description='')]\n"
     ]
    }
   ],
   "source": [
    "print(trainer.get_data_points()[:3])\n",
    "print(trainer.get_data_points()[-3:])"
   ]
  },
  {
   "cell_type": "code",
   "execution_count": null,
   "id": "2d630286-96b6-4ac1-8337-8e90606387e8",
   "metadata": {},
   "outputs": [],
   "source": []
  },
  {
   "cell_type": "code",
   "execution_count": null,
   "id": "b029796f-5630-4229-aaf2-3861e5e725db",
   "metadata": {},
   "outputs": [],
   "source": []
  }
 ],
 "metadata": {
  "kernelspec": {
   "display_name": "Python 3 (ipykernel)",
   "language": "python",
   "name": "python3"
  },
  "language_info": {
   "codemirror_mode": {
    "name": "ipython",
    "version": 3
   },
   "file_extension": ".py",
   "mimetype": "text/x-python",
   "name": "python",
   "nbconvert_exporter": "python",
   "pygments_lexer": "ipython3",
   "version": "3.10.15"
  }
 },
 "nbformat": 4,
 "nbformat_minor": 5
}
