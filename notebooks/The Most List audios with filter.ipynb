{
 "cells": [
  {
   "cell_type": "code",
   "execution_count": 1,
   "id": "a6892292-2ce5-470b-b6db-fba14f65e308",
   "metadata": {},
   "outputs": [],
   "source": [
    "import os\n",
    "import sys\n",
    "from pathlib import Path\n",
    "sys.path.append('../')\n",
    "from most import MostClient"
   ]
  },
  {
   "cell_type": "code",
   "execution_count": 10,
   "id": "e95aca8e-9a4e-4b46-ab01-d4aca7714db2",
   "metadata": {},
   "outputs": [],
   "source": [
    "client = MostClient(model_id=\"most-67ebccad691330291add5bdd\")"
   ]
  },
  {
   "cell_type": "code",
   "execution_count": 11,
   "id": "630f556d-632a-40d5-b136-2771526cd4a1",
   "metadata": {},
   "outputs": [
    {
     "data": {
      "text/plain": [
       "[Audio(id='680598a9e5da23c424a3e4c0', url='https://bc2cf9a7-70b1-41f2-88ad-a47588b0eaa0.selstorage.ru/2025/4/20/2025-04-20-13:31:49_79118449662_316_MjM0NDY5NjQ5NjI=.mp3')]"
      ]
     },
     "execution_count": 11,
     "metadata": {},
     "output_type": "execute_result"
    }
   ],
   "source": [
    "client.list_audios(limit=50, query={'request_code': '00000112682'})"
   ]
  }
 ],
 "metadata": {
  "kernelspec": {
   "display_name": "Python 3 (ipykernel)",
   "language": "python",
   "name": "python3"
  },
  "language_info": {
   "codemirror_mode": {
    "name": "ipython",
    "version": 3
   },
   "file_extension": ".py",
   "mimetype": "text/x-python",
   "name": "python",
   "nbconvert_exporter": "python",
   "pygments_lexer": "ipython3",
   "version": "3.10.15"
  }
 },
 "nbformat": 4,
 "nbformat_minor": 5
}
