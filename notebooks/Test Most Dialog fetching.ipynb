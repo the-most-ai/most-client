{
 "cells": [
  {
   "cell_type": "code",
   "execution_count": 1,
   "id": "5036f75f-01ef-4cfc-9374-98f2265af4c3",
   "metadata": {},
   "outputs": [],
   "source": [
    "import os\n",
    "import sys\n",
    "from pathlib import Path\n",
    "sys.path.append('../')\n",
    "from most import MostClient"
   ]
  },
  {
   "cell_type": "code",
   "execution_count": 2,
   "id": "3e715cce-1268-408f-8f4f-4c61226a7584",
   "metadata": {},
   "outputs": [],
   "source": [
    "client = MostClient()\n",
    "client = client.list_models()[0]"
   ]
  },
  {
   "cell_type": "code",
   "execution_count": 15,
   "id": "d4e74347-44ad-43f3-a55f-0e2b49c3840f",
   "metadata": {},
   "outputs": [
    {
     "data": {
      "text/plain": [
       "DialogResult(id='67bd9874748956b6cc271fe8', dialog=Dialog(segments=[DialogSegment(start_time_ms=1140, end_time_ms=5473, text='Алло, здравствуйте, Маргарита, диван, ру, менеджер Нелли, удобно вам разговаривать.', speaker='Спикер А', emotion=None, intensity=None), DialogSegment(start_time_ms=6779, end_time_ms=7960, text='Нет, неудобно сейчас.', speaker='Спикер Б', emotion=None, intensity=None), DialogSegment(start_time_ms=8220, end_time_ms=10019, text='Ага, перезвоню вам тогда до свидания.', speaker='Спикер А', emotion=None, intensity=None)]), url='https://xxx', results=None)"
      ]
     },
     "execution_count": 15,
     "metadata": {},
     "output_type": "execute_result"
    }
   ],
   "source": [
    "client.fetch_dialog(\"67bd9874748956b6cc271fe8\")"
   ]
  },
  {
   "cell_type": "code",
   "execution_count": null,
   "id": "54941d7c-9d65-4888-9f05-07df4c1124f3",
   "metadata": {},
   "outputs": [],
   "source": []
  },
  {
   "cell_type": "code",
   "execution_count": null,
   "id": "49ddac34-6e7d-4c27-b48f-61b3405d5a30",
   "metadata": {},
   "outputs": [],
   "source": []
  }
 ],
 "metadata": {
  "kernelspec": {
   "display_name": "Python 3 (ipykernel)",
   "language": "python",
   "name": "python3"
  },
  "language_info": {
   "codemirror_mode": {
    "name": "ipython",
    "version": 3
   },
   "file_extension": ".py",
   "mimetype": "text/x-python",
   "name": "python",
   "nbconvert_exporter": "python",
   "pygments_lexer": "ipython3",
   "version": "3.10.15"
  }
 },
 "nbformat": 4,
 "nbformat_minor": 5
}
