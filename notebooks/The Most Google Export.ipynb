{
 "cells": [
  {
   "cell_type": "code",
   "execution_count": 1,
   "id": "4797e867-c2df-4997-86ac-6dd0486bfe24",
   "metadata": {},
   "outputs": [],
   "source": [
    "import os\n",
    "import sys\n",
    "from pathlib import Path\n",
    "sys.path.append('../')\n",
    "from most import MostClient"
   ]
  },
  {
   "cell_type": "code",
   "execution_count": 2,
   "id": "79400be6-300b-4fb8-ac32-dd28722ddf5e",
   "metadata": {},
   "outputs": [],
   "source": [
    "client = MostClient()\n",
    "client = client.list_models()[0]"
   ]
  },
  {
   "cell_type": "code",
   "execution_count": 7,
   "id": "da302889-366e-4ba2-b3fd-2c29fa430c02",
   "metadata": {},
   "outputs": [],
   "source": [
    "client.list_audios()\n",
    "audio_ids = [audio.id \n",
    "             for audio in client.list_audios()]"
   ]
  },
  {
   "cell_type": "code",
   "id": "e5678a5a-a91c-435b-aed9-538b90d927a0",
   "metadata": {},
   "source": [
    "for audio_id in audio_ids[:3]:\n",
    "    print(client.fetch_info(audio_id))"
   ],
   "outputs": [],
   "execution_count": null
  },
  {
   "cell_type": "code",
   "execution_count": null,
   "id": "f7aa7536-20c4-403a-a793-4c51a9906a99",
   "metadata": {},
   "outputs": [],
   "source": []
  },
  {
   "cell_type": "code",
   "id": "c2441b77-0136-44d0-b872-cfeaeab0abbe",
   "metadata": {},
   "source": [
    "client.export(audio_ids,\n",
    "              aggregated_by=\"manager\",\n",
    "              aggregation_title=\"Имя менеджера\")"
   ],
   "outputs": [],
   "execution_count": null
  },
  {
   "cell_type": "code",
   "execution_count": null,
   "id": "d581eacc-3551-4e9a-85dc-b74f73a94315",
   "metadata": {},
   "outputs": [],
   "source": []
  }
 ],
 "metadata": {
  "kernelspec": {
   "display_name": "Python 3 (ipykernel)",
   "language": "python",
   "name": "python3"
  },
  "language_info": {
   "codemirror_mode": {
    "name": "ipython",
    "version": 3
   },
   "file_extension": ".py",
   "mimetype": "text/x-python",
   "name": "python",
   "nbconvert_exporter": "python",
   "pygments_lexer": "ipython3",
   "version": "3.10.15"
  }
 },
 "nbformat": 4,
 "nbformat_minor": 5
}
