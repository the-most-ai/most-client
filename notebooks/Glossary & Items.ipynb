{
 "cells": [
  {
   "cell_type": "code",
   "execution_count": 9,
   "id": "4c07abbb-2319-41d8-b6e2-59b1f34d983a",
   "metadata": {},
   "outputs": [],
   "source": [
    "import os\n",
    "import sys\n",
    "from pathlib import Path\n",
    "sys.path.append('../')\n",
    "from most import MostClient, Glossary, Catalog, GlossaryNGram, Item"
   ]
  },
  {
   "cell_type": "code",
   "execution_count": 2,
   "id": "85ecb71e-2e54-45b2-a768-1d7c794ca092",
   "metadata": {},
   "outputs": [],
   "source": [
    "client = MostClient(model_id=\"most-67ebccad691330291add5bdd\")"
   ]
  },
  {
   "cell_type": "code",
   "execution_count": 3,
   "id": "0205055d-3dfd-47c2-bc7e-5da6f1e5ae94",
   "metadata": {},
   "outputs": [],
   "source": [
    "catalog = Catalog(client)\n",
    "glossary = Glossary(client)"
   ]
  },
  {
   "cell_type": "code",
   "execution_count": 4,
   "id": "23a18bc7-b6ec-43ce-9744-ecff816efa0b",
   "metadata": {},
   "outputs": [
    {
     "data": {
      "text/plain": [
       "[]"
      ]
     },
     "execution_count": 4,
     "metadata": {},
     "output_type": "execute_result"
    }
   ],
   "source": [
    "catalog.list_items()"
   ]
  },
  {
   "cell_type": "code",
   "execution_count": 5,
   "id": "4401efeb-0c3c-48f9-b105-7732b15c090d",
   "metadata": {},
   "outputs": [
    {
     "data": {
      "text/plain": [
       "[]"
      ]
     },
     "execution_count": 5,
     "metadata": {},
     "output_type": "execute_result"
    }
   ],
   "source": [
    "glossary.list_ngrams()"
   ]
  },
  {
   "cell_type": "code",
   "execution_count": 7,
   "id": "c452781d-071c-4712-8ad6-23207eb0d8e0",
   "metadata": {},
   "outputs": [
    {
     "data": {
      "text/plain": [
       "[GlossaryNGram(original=['Диван', 'Ру'], pronunciation=['иван', 'ру'], weight=5.0, id='6842be63cd3c8262cc94e57f')]"
      ]
     },
     "execution_count": 7,
     "metadata": {},
     "output_type": "execute_result"
    }
   ],
   "source": [
    "glossary.add_ngrams(GlossaryNGram(original=[\"Диван\", \"Ру\"],\n",
    "                                  pronunciation=[\"диван\", \"ру\"],\n",
    "                                  weight=10))\n",
    "glossary.add_ngrams(GlossaryNGram(original=[\"Диван\", \"Ру\"],\n",
    "                                  pronunciation=[\"иван\", \"ру\"],\n",
    "                                  weight=5))"
   ]
  },
  {
   "cell_type": "code",
   "execution_count": 8,
   "id": "b8ef5119-1ec9-4b05-b4e2-af879cfadfb8",
   "metadata": {},
   "outputs": [
    {
     "data": {
      "text/plain": [
       "[GlossaryNGram(original=['Диван', 'Ру'], pronunciation=['диван', 'ру'], weight=10.0, id='6842bdbccd3c8262cc94d9e1'),\n",
       " GlossaryNGram(original=['Диван', 'Ру'], pronunciation=['иван', 'ру'], weight=5.0, id='6842be63cd3c8262cc94e57f')]"
      ]
     },
     "execution_count": 8,
     "metadata": {},
     "output_type": "execute_result"
    }
   ],
   "source": [
    "glossary.list_ngrams()"
   ]
  },
  {
   "cell_type": "code",
   "execution_count": 10,
   "id": "9715b8f6-cbdb-4ce6-b8b5-15b73ac2332a",
   "metadata": {},
   "outputs": [
    {
     "ename": "TypeError",
     "evalue": "'Item' object is not iterable",
     "output_type": "error",
     "traceback": [
      "\u001b[0;31m---------------------------------------------------------------------------\u001b[0m",
      "\u001b[0;31mTypeError\u001b[0m                                 Traceback (most recent call last)",
      "Cell \u001b[0;32mIn[10], line 1\u001b[0m\n\u001b[0;32m----> 1\u001b[0m \u001b[43mcatalog\u001b[49m\u001b[38;5;241;43m.\u001b[39;49m\u001b[43madd_items\u001b[49m\u001b[43m(\u001b[49m\u001b[43mItem\u001b[49m\u001b[43m(\u001b[49m\u001b[43mtitle\u001b[49m\u001b[38;5;241;43m=\u001b[39;49m\u001b[38;5;124;43m\"\u001b[39;49m\u001b[38;5;124;43mБанкетка Аймо Cozy Milk\u001b[39;49m\u001b[38;5;124;43m\"\u001b[39;49m\u001b[43m,\u001b[49m\n\u001b[1;32m      2\u001b[0m \u001b[43m                       \u001b[49m\u001b[43mpronunciation\u001b[49m\u001b[38;5;241;43m=\u001b[39;49m\u001b[38;5;124;43m\"\u001b[39;49m\u001b[38;5;124;43mбанкетка аймо кози милк\u001b[39;49m\u001b[38;5;124;43m\"\u001b[39;49m\u001b[43m,\u001b[49m\n\u001b[1;32m      3\u001b[0m \u001b[43m                       \u001b[49m\u001b[43mmetadata\u001b[49m\u001b[38;5;241;43m=\u001b[39;49m\u001b[43m{\u001b[49m\u001b[43m}\u001b[49m\u001b[43m)\u001b[49m\u001b[43m)\u001b[49m\n",
      "File \u001b[0;32m~/most-client/notebooks/../most/catalog.py:14\u001b[0m, in \u001b[0;36mCatalog.add_items\u001b[0;34m(self, items)\u001b[0m\n\u001b[1;32m     12\u001b[0m \u001b[38;5;28;01mdef\u001b[39;00m\u001b[38;5;250m \u001b[39m\u001b[38;5;21madd_items\u001b[39m(\u001b[38;5;28mself\u001b[39m, items: List[Item]) \u001b[38;5;241m-\u001b[39m\u001b[38;5;241m>\u001b[39m List[Item]:\n\u001b[1;32m     13\u001b[0m     resp \u001b[38;5;241m=\u001b[39m \u001b[38;5;28mself\u001b[39m\u001b[38;5;241m.\u001b[39mclient\u001b[38;5;241m.\u001b[39mpost(\u001b[38;5;124mf\u001b[39m\u001b[38;5;124m\"\u001b[39m\u001b[38;5;124m/\u001b[39m\u001b[38;5;132;01m{\u001b[39;00m\u001b[38;5;28mself\u001b[39m\u001b[38;5;241m.\u001b[39mclient\u001b[38;5;241m.\u001b[39mclient_id\u001b[38;5;132;01m}\u001b[39;00m\u001b[38;5;124m/upload_items\u001b[39m\u001b[38;5;124m\"\u001b[39m,\n\u001b[0;32m---> 14\u001b[0m                             json\u001b[38;5;241m=\u001b[39m[item\u001b[38;5;241m.\u001b[39mto_dict() \u001b[38;5;28;01mfor\u001b[39;00m item \u001b[38;5;129;01min\u001b[39;00m items])\n\u001b[1;32m     15\u001b[0m     \u001b[38;5;28;01mreturn\u001b[39;00m \u001b[38;5;28mself\u001b[39m\u001b[38;5;241m.\u001b[39mclient\u001b[38;5;241m.\u001b[39mretort\u001b[38;5;241m.\u001b[39mload(resp\u001b[38;5;241m.\u001b[39mjson(), List[Item])\n",
      "\u001b[0;31mTypeError\u001b[0m: 'Item' object is not iterable"
     ]
    }
   ],
   "source": [
    "catalog.add_items(Item(title=\"Банкетка Аймо Cozy Milk\",\n",
    "                       pronunciation=\"банкетка аймо кози милк\",\n",
    "                       metadata={}))"
   ]
  },
  {
   "cell_type": "code",
   "execution_count": null,
   "id": "9e3b73af-285b-4295-b18a-1b79035cfb4c",
   "metadata": {},
   "outputs": [],
   "source": []
  }
 ],
 "metadata": {
  "kernelspec": {
   "display_name": "Python 3 (ipykernel)",
   "language": "python",
   "name": "python3"
  },
  "language_info": {
   "codemirror_mode": {
    "name": "ipython",
    "version": 3
   },
   "file_extension": ".py",
   "mimetype": "text/x-python",
   "name": "python",
   "nbconvert_exporter": "python",
   "pygments_lexer": "ipython3",
   "version": "3.10.15"
  }
 },
 "nbformat": 4,
 "nbformat_minor": 5
}
