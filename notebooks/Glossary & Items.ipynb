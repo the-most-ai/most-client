{
 "cells": [
  {
   "cell_type": "code",
   "execution_count": 1,
   "id": "4c07abbb-2319-41d8-b6e2-59b1f34d983a",
   "metadata": {},
   "outputs": [],
   "source": [
    "import os\n",
    "import sys\n",
    "from pathlib import Path\n",
    "sys.path.append('../')\n",
    "from most import MostClient, Glossary, Catalog, GlossaryNGram, Item"
   ]
  },
  {
   "cell_type": "code",
   "execution_count": 2,
   "id": "85ecb71e-2e54-45b2-a768-1d7c794ca092",
   "metadata": {},
   "outputs": [],
   "source": [
    "client = MostClient(model_id=\"most-67ebccad691330291add5bdd\")"
   ]
  },
  {
   "cell_type": "code",
   "execution_count": 3,
   "id": "0205055d-3dfd-47c2-bc7e-5da6f1e5ae94",
   "metadata": {},
   "outputs": [],
   "source": [
    "catalog = Catalog(client)\n",
    "glossary = Glossary(client)"
   ]
  },
  {
   "cell_type": "code",
   "execution_count": 4,
   "id": "23a18bc7-b6ec-43ce-9744-ecff816efa0b",
   "metadata": {},
   "outputs": [
    {
     "data": {
      "text/plain": [
       "[]"
      ]
     },
     "execution_count": 4,
     "metadata": {},
     "output_type": "execute_result"
    }
   ],
   "source": [
    "catalog.list_items()"
   ]
  },
  {
   "cell_type": "code",
   "execution_count": 5,
   "id": "4401efeb-0c3c-48f9-b105-7732b15c090d",
   "metadata": {},
   "outputs": [
    {
     "data": {
      "text/plain": [
       "[]"
      ]
     },
     "execution_count": 5,
     "metadata": {},
     "output_type": "execute_result"
    }
   ],
   "source": [
    "glossary.list_ngrams()"
   ]
  },
  {
   "cell_type": "code",
   "execution_count": 7,
   "id": "c452781d-071c-4712-8ad6-23207eb0d8e0",
   "metadata": {},
   "outputs": [
    {
     "data": {
      "text/plain": [
       "[GlossaryNGram(original=['Диван', 'Ру'], pronunciation=['иван', 'ру'], weight=5.0, id='6842be63cd3c8262cc94e57f')]"
      ]
     },
     "execution_count": 7,
     "metadata": {},
     "output_type": "execute_result"
    }
   ],
   "source": [
    "glossary.add_ngrams(GlossaryNGram(original=[\"Диван\", \"Ру\"],\n",
    "                                  pronunciation=[\"диван\", \"ру\"],\n",
    "                                  weight=10))\n",
    "glossary.add_ngrams(GlossaryNGram(original=[\"Диван\", \"Ру\"],\n",
    "                                  pronunciation=[\"иван\", \"ру\"],\n",
    "                                  weight=5))"
   ]
  },
  {
   "cell_type": "code",
   "execution_count": 8,
   "id": "b8ef5119-1ec9-4b05-b4e2-af879cfadfb8",
   "metadata": {},
   "outputs": [
    {
     "data": {
      "text/plain": [
       "[GlossaryNGram(original=['Диван', 'Ру'], pronunciation=['диван', 'ру'], weight=10.0, id='6842bdbccd3c8262cc94d9e1'),\n",
       " GlossaryNGram(original=['Диван', 'Ру'], pronunciation=['иван', 'ру'], weight=5.0, id='6842be63cd3c8262cc94e57f')]"
      ]
     },
     "execution_count": 8,
     "metadata": {},
     "output_type": "execute_result"
    }
   ],
   "source": [
    "glossary.list_ngrams()"
   ]
  },
  {
   "cell_type": "code",
   "execution_count": 4,
   "id": "9715b8f6-cbdb-4ce6-b8b5-15b73ac2332a",
   "metadata": {},
   "outputs": [
    {
     "data": {
      "text/plain": [
       "[Item(title='Банкетка Аймо Cozy Milk', pronunciation='банкетка аймо кози милк', metadata={}, id='6842bf12cd3c8262cc94f12c')]"
      ]
     },
     "execution_count": 4,
     "metadata": {},
     "output_type": "execute_result"
    }
   ],
   "source": [
    "catalog.add_items(Item(title=\"Банкетка Аймо Cozy Milk\",\n",
    "                       pronunciation=\"банкетка аймо кози милк\",\n",
    "                       metadata={}))"
   ]
  },
  {
   "cell_type": "code",
   "execution_count": 5,
   "id": "9e3b73af-285b-4295-b18a-1b79035cfb4c",
   "metadata": {},
   "outputs": [
    {
     "data": {
      "text/plain": [
       "[Item(title='Банкетка Аймо Cozy Milk', pronunciation='банкетка аймо кози милк', metadata={}, id='6842bf12cd3c8262cc94f12c')]"
      ]
     },
     "execution_count": 5,
     "metadata": {},
     "output_type": "execute_result"
    }
   ],
   "source": [
    "catalog.list_items()"
   ]
  },
  {
   "cell_type": "code",
   "execution_count": null,
   "id": "4cb389e1-ee99-4b54-8e75-a902b921bb7e",
   "metadata": {},
   "outputs": [],
   "source": []
  }
 ],
 "metadata": {
  "kernelspec": {
   "display_name": "Python 3 (ipykernel)",
   "language": "python",
   "name": "python3"
  },
  "language_info": {
   "codemirror_mode": {
    "name": "ipython",
    "version": 3
   },
   "file_extension": ".py",
   "mimetype": "text/x-python",
   "name": "python",
   "nbconvert_exporter": "python",
   "pygments_lexer": "ipython3",
   "version": "3.10.15"
  }
 },
 "nbformat": 4,
 "nbformat_minor": 5
}
