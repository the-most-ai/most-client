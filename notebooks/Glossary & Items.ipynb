{
 "cells": [
  {
   "cell_type": "code",
   "execution_count": 38,
   "id": "4c07abbb-2319-41d8-b6e2-59b1f34d983a",
   "metadata": {},
   "outputs": [],
   "source": [
    "import os\n",
    "import sys\n",
    "from typing import Dict, Any, List\n",
    "from pathlib import Path\n",
    "import openai\n",
    "from tqdm import tqdm\n",
    "import random\n",
    "import pandas as pd\n",
    "from pydantic import BaseModel\n",
    "sys.path.append('../')\n",
    "from most import MostClient, Glossary, Catalog, GlossaryNGram, Item"
   ]
  },
  {
   "cell_type": "code",
   "execution_count": 48,
   "id": "85ecb71e-2e54-45b2-a768-1d7c794ca092",
   "metadata": {},
   "outputs": [],
   "source": [
    "client = MostClient(model_id=\"most-67ebccad691330291add5bdd\")"
   ]
  },
  {
   "cell_type": "code",
   "execution_count": 5,
   "id": "0205055d-3dfd-47c2-bc7e-5da6f1e5ae94",
   "metadata": {},
   "outputs": [],
   "source": [
    "catalog = Catalog(client)"
   ]
  },
  {
   "cell_type": "code",
   "execution_count": 29,
   "id": "f3eafc23-7dd7-4c2b-b591-4903d06948af",
   "metadata": {},
   "outputs": [],
   "source": [
    "ai = openai.AsyncClient(api_key=\"\")"
   ]
  },
  {
   "cell_type": "code",
   "execution_count": 7,
   "id": "f7843f6f-fa7e-4995-8e1a-331eb86f8f6d",
   "metadata": {},
   "outputs": [],
   "source": [
    "path = '/Users/kaspar_george/Downloads/Items.csv'"
   ]
  },
  {
   "cell_type": "code",
   "execution_count": 9,
   "id": "f4a9d8be-5bbc-4196-82c3-f5d40ad0d2ac",
   "metadata": {},
   "outputs": [
    {
     "data": {
      "text/html": [
       "<div>\n",
       "<style scoped>\n",
       "    .dataframe tbody tr th:only-of-type {\n",
       "        vertical-align: middle;\n",
       "    }\n",
       "\n",
       "    .dataframe tbody tr th {\n",
       "        vertical-align: top;\n",
       "    }\n",
       "\n",
       "    .dataframe thead th {\n",
       "        text-align: right;\n",
       "    }\n",
       "</style>\n",
       "<table border=\"1\" class=\"dataframe\">\n",
       "  <thead>\n",
       "    <tr style=\"text-align: right;\">\n",
       "      <th></th>\n",
       "      <th>0</th>\n",
       "      <th>1</th>\n",
       "      <th>2</th>\n",
       "      <th>3</th>\n",
       "      <th>4</th>\n",
       "    </tr>\n",
       "  </thead>\n",
       "  <tbody>\n",
       "    <tr>\n",
       "      <th>Наименование товара</th>\n",
       "      <td>Банкетка Аймо Cozy Milk</td>\n",
       "      <td>Банкетка Аймо Textile Blue</td>\n",
       "      <td>Банкетка Аймо Textile Grafit</td>\n",
       "      <td>Банкетка Аймо Textile Grey</td>\n",
       "      <td>Банкетка Аймо Textile Light</td>\n",
       "    </tr>\n",
       "  </tbody>\n",
       "</table>\n",
       "</div>"
      ],
      "text/plain": [
       "                                           0                           1  \\\n",
       "Наименование товара  Банкетка Аймо Cozy Milk  Банкетка Аймо Textile Blue   \n",
       "\n",
       "                                                2                           3  \\\n",
       "Наименование товара  Банкетка Аймо Textile Grafit  Банкетка Аймо Textile Grey   \n",
       "\n",
       "                                               4  \n",
       "Наименование товара  Банкетка Аймо Textile Light  "
      ]
     },
     "execution_count": 9,
     "metadata": {},
     "output_type": "execute_result"
    }
   ],
   "source": [
    "df = pd.read_csv(path)\n",
    "df.head().T"
   ]
  },
  {
   "cell_type": "code",
   "execution_count": 32,
   "id": "ab521edf-9508-4f9e-a370-b6061e201d3e",
   "metadata": {},
   "outputs": [],
   "source": [
    "class DetailedItem(BaseModel):\n",
    "    pronunciation: str\n",
    "    description: str\n",
    "    similar_colors: List[str]\n",
    "    item_type: str\n",
    "    item_category: str\n",
    "    similar_items: List[str]"
   ]
  },
  {
   "cell_type": "code",
   "execution_count": 33,
   "id": "cf6802ee-fe69-4afa-bb0d-65e1a2425041",
   "metadata": {},
   "outputs": [],
   "source": [
    "prompt = \"\"\"\n",
    "Ты - лучший продавец консультант в магазине.\n",
    "Дано наименование товара. \n",
    "Твоя задача - составить произношение этого товара на русском языке (pronunciation)\n",
    "Добавить мета-данные для этого товара, включая описание товара, похожие цвета, тип товара, и другое\n",
    "\"\"\""
   ]
  },
  {
   "cell_type": "code",
   "execution_count": 34,
   "id": "31c59da7-c68a-4d0c-a0a0-a6c314aac1a4",
   "metadata": {},
   "outputs": [],
   "source": [
    "async def format_item(title):\n",
    "    response = await ai.responses.parse(\n",
    "        model=\"gpt-4o-mini\",\n",
    "        input=[\n",
    "            {\"role\": \"system\", \"content\": prompt},\n",
    "            {\n",
    "                \"role\": \"user\",\n",
    "                \"content\": title,\n",
    "            },\n",
    "        ],\n",
    "        text_format=DetailedItem,\n",
    "    )\n",
    "    return response.output_parsed"
   ]
  },
  {
   "cell_type": "code",
   "execution_count": 31,
   "id": "1b5d24c5-ebda-4621-92c6-b1b87878de72",
   "metadata": {},
   "outputs": [
    {
     "data": {
      "text/plain": [
       "DetailedItem(pronunciation='банкетка аймо кози милк', description='Банкетка Аймо Cozy Milk — элегантная и комфортабельная мебель, идеально подходящая для вашего интерьера. Она выполнена в нежных светлых тонах с текстурированной обивкой, что придает ей стильный вид. Подходит для гостиных, спален и прихожих.', similar_colors=['Слоновая кость', 'Светло-бежевый', 'Пудровый розовый', 'Светло-серый'], item_type='Мебель', similar_items=['Банкетка с обивкой', 'Диван', 'Кресло', 'Табурет'])"
      ]
     },
     "execution_count": 31,
     "metadata": {},
     "output_type": "execute_result"
    }
   ],
   "source": [
    "await format_item(df.loc[0]['Наименование товара'])"
   ]
  },
  {
   "cell_type": "code",
   "execution_count": 39,
   "id": "0706a0f6-b06c-470f-8c9c-acfe07d224b7",
   "metadata": {},
   "outputs": [],
   "source": [
    "rows = list(df.iterrows())\n",
    "random.shuffle(rows)"
   ]
  },
  {
   "cell_type": "code",
   "execution_count": null,
   "id": "2b1bfbf7-4165-41fc-81ea-559c9bdf042d",
   "metadata": {},
   "outputs": [],
   "source": []
  },
  {
   "cell_type": "code",
   "execution_count": null,
   "id": "334dc6b0-b4be-4a12-930b-24fad37421a7",
   "metadata": {},
   "outputs": [],
   "source": [
    "for idx, row in tqdm(rows[23 + 19 + 138:]):\n",
    "    title = row['Наименование товара']\n",
    "    fitem = await format_item(title)\n",
    "    catalog.add_items(Item(title=title,\n",
    "                           pronunciation=fitem.pronunciation,\n",
    "                           metadata={\n",
    "                               \"description\": fitem.description,\n",
    "                               \"similar_colors\": \", \".join(fitem.similar_colors),\n",
    "                               \"item_type\": fitem.item_type,\n",
    "                               \"item_category\": fitem.item_category,\n",
    "                               \"similar_items\": \", \".join(fitem.similar_items),\n",
    "                           }))\n"
   ]
  },
  {
   "cell_type": "code",
   "execution_count": 47,
   "id": "a242975e-7773-4989-b7cb-1a82ec0c1179",
   "metadata": {},
   "outputs": [
    {
     "data": {
      "text/plain": [
       "[Item(title='Стул Лаури Olive', pronunciation='Стул Лаури Олив', metadata={'description': 'Стул Лаури Olive - это стильный и удобный стул, выполненный в современном дизайне. Его уникальный цвет оливы добавляет уют и изысканность в любой интерьер. Этот стул отлично подойдет как для домашнего использования, так и для кафе или ресторанов. Изготовлен из прочных материалов, обеспечивающих долговечность и комфорт.', 'similar_colors': 'Зеленый, Хаки, Оливковый, Мятный', 'item_type': 'Стул', 'item_category': 'Мебель', 'similar_items': 'Стул Эдвард, Стул Патрика, Стул Ницца, Стул Милано'}, id='6861a85acd3c8262cce13ec1'),\n",
       " Item(title='Стул Элиза Velvet Milk', pronunciation='Стул Элиза Вельвет Мilk', metadata={'description': 'Стул Элиза Velvet Milk — это стильный и элегантный предмет мебели, выполненный из мягкого велюрового материала цвета молока. Он прекрасно вписывается в любой интерьер, добавляя нотку изысканности и комфорта. Удобная форма спинки и сиденья обеспечивает максимальный комфорт во время сидения, а прочная конструкция гарантирует долговечность стула.', 'similar_colors': 'Кремовый, Бежевый, Слоновая кость', 'item_type': 'Стул', 'item_category': 'Мебель', 'similar_items': 'Стул Элиза Velvet Beige, Стул Элиза Velvet Cream, Стул Элиза Velvet White'}, id='6861aaa8cd3c8262cce15e93'),\n",
       " Item(title='Стул Элвуд-1 Beige', pronunciation='Стул Элвуд-один Беж', metadata={'description': 'Стул Элвуд-1 Beige — это стильный и удобный стул, выполненный в нежном бежевом цвете. Идеально подходит для интерьеров в скандинавском или современном стиле. Обеспечивает высокую степень комфорта и поддержки благодаря эргономичной форме и качественным материалам. Отличный выбор для обустройства как жилых, так и офисных пространств.', 'similar_colors': 'Кремовый, Светло-коричневый, Слоновая кость', 'item_type': 'Стул', 'item_category': 'Мебель', 'similar_items': 'Стул Элвуд-2 Grey, Стул Рио Beige, Стул Классик Белый'}, id='6861a96ccd3c8262cce14dda'),\n",
       " Item(title='Стул полубарный Дарлен Velvet Beige', pronunciation='Стул полубарный Дарлен Велюр Бежевый', metadata={'description': 'Стул полубарный Дарлен выполнен из высококачественного велюра бежевого цвета. Изящные линии и комфортная высокоэластичная обивка делают этот стул идеальным для кухонь, баров и ресторанов. Удобная спинка и прочная конструкция обеспечивают максимальный комфорт при использовании.', 'similar_colors': 'Бежевый, Кремовый, Слоновая кость, Песочный', 'item_type': 'Полубарный стул', 'item_category': 'Мебель', 'similar_items': 'Стул барный Зара, Стул барный Луна, Стул барный Классик, Стул полубарный Роксана'}, id='6861a7e8cd3c8262cce13856'),\n",
       " Item(title='Стул Одар-3 Velvet Stone', pronunciation='стул о́дар-три ве́лвет сто́ун', metadata={'description': 'Стул Одар-3 Velvet Stone — это стильный и уютный предмет мебели, который идеально впишется в любой интерьер. Обитый высококачественной велюровой тканью, он предлагает не только визуальную привлекательность, но и комфорт во время сидения. Имеет прочную конструкцию и эргономичную форму, что делает его идеальным выбором для домашнего или офисного использования.', 'similar_colors': 'Серый, Бежевый, Темно-синий, Светло-коричневый', 'item_type': 'Стул', 'item_category': 'Мебель', 'similar_items': 'Стул Одар-1 Velvet Blue, Стул Одар-2 Velvet Grey, Стул Одар-4 Leather Black'}, id='6861a950cd3c8262cce14c78'),\n",
       " Item(title='Стул Валенсия-2 Velvet Blue', pronunciation='Стул Валенсия-2 Велвет Блу', metadata={'description': 'Стул Валенсия-2 выполнен в современном стиле и изготовлен из качественных материалов. Обивка из вельвета придаёт ему особую мягкость и уют, а глубокий синий цвет добавляет элегантности любому интерьёру. Идеален для гостиной, столовой или рабочего пространства. Обеспечивает комфорт и стиль в одном решении.', 'similar_colors': 'Глубокий синий, Тёмно-синий, Синий вельвет', 'item_type': 'Стул', 'item_category': 'Мебель', 'similar_items': 'Стул Валенсия-1, Стул Рим, Стул Верона'}, id='6861ac33cd3c8262cce17157'),\n",
       " Item(title='Стул барный Одар-1 Velvet Olive', pronunciation='Стул барный Одар-1 Вельвет Оливковый', metadata={'description': 'Стул барный Одар-1 выполнен в элегантном оливковом цвете, украшен мягкой обивкой из долговечного вельвета. Идеально подходит для барных стоек и высоких столов, сочетает в себе комфорт и стиль. Его современный дизайн и качественные материалы делают его отличным выбором для вашего интерьера.', 'similar_colors': 'Оливковый, Изумрудный, Мятный', 'item_type': 'Барный стул', 'item_category': 'Мебель', 'similar_items': 'Стул барный Одар-2, Стул барный Тенор, Стул барный Лотос'}, id='6861a93dcd3c8262cce14b7b')]"
      ]
     },
     "execution_count": 47,
     "metadata": {},
     "output_type": "execute_result"
    }
   ],
   "source": [
    "catalog.search_items(\"Зеленый стул\")"
   ]
  },
  {
   "cell_type": "code",
   "execution_count": 6,
   "id": "23a18bc7-b6ec-43ce-9744-ecff816efa0b",
   "metadata": {},
   "outputs": [
    {
     "data": {
      "text/plain": [
       "[]"
      ]
     },
     "execution_count": 6,
     "metadata": {},
     "output_type": "execute_result"
    }
   ],
   "source": [
    "catalog.list_items()"
   ]
  },
  {
   "cell_type": "code",
   "execution_count": 5,
   "id": "4401efeb-0c3c-48f9-b105-7732b15c090d",
   "metadata": {},
   "outputs": [
    {
     "data": {
      "text/plain": [
       "[]"
      ]
     },
     "execution_count": 5,
     "metadata": {},
     "output_type": "execute_result"
    }
   ],
   "source": [
    "glossary.list_ngrams()"
   ]
  },
  {
   "cell_type": "code",
   "execution_count": 7,
   "id": "c452781d-071c-4712-8ad6-23207eb0d8e0",
   "metadata": {},
   "outputs": [
    {
     "data": {
      "text/plain": [
       "[GlossaryNGram(original=['Диван', 'Ру'], pronunciation=['иван', 'ру'], weight=5.0, id='6842be63cd3c8262cc94e57f')]"
      ]
     },
     "execution_count": 7,
     "metadata": {},
     "output_type": "execute_result"
    }
   ],
   "source": [
    "glossary.add_ngrams(GlossaryNGram(original=[\"Диван\", \"Ру\"],\n",
    "                                  pronunciation=[\"диван\", \"ру\"],\n",
    "                                  weight=10))\n",
    "glossary.add_ngrams(GlossaryNGram(original=[\"Диван\", \"Ру\"],\n",
    "                                  pronunciation=[\"иван\", \"ру\"],\n",
    "                                  weight=5))"
   ]
  },
  {
   "cell_type": "code",
   "execution_count": 8,
   "id": "b8ef5119-1ec9-4b05-b4e2-af879cfadfb8",
   "metadata": {},
   "outputs": [
    {
     "data": {
      "text/plain": [
       "[GlossaryNGram(original=['Диван', 'Ру'], pronunciation=['диван', 'ру'], weight=10.0, id='6842bdbccd3c8262cc94d9e1'),\n",
       " GlossaryNGram(original=['Диван', 'Ру'], pronunciation=['иван', 'ру'], weight=5.0, id='6842be63cd3c8262cc94e57f')]"
      ]
     },
     "execution_count": 8,
     "metadata": {},
     "output_type": "execute_result"
    }
   ],
   "source": [
    "glossary.list_ngrams()"
   ]
  },
  {
   "cell_type": "code",
   "execution_count": 4,
   "id": "9715b8f6-cbdb-4ce6-b8b5-15b73ac2332a",
   "metadata": {},
   "outputs": [
    {
     "data": {
      "text/plain": [
       "[Item(title='Банкетка Аймо Cozy Milk', pronunciation='банкетка аймо кози милк', metadata={}, id='6842bf12cd3c8262cc94f12c')]"
      ]
     },
     "execution_count": 4,
     "metadata": {},
     "output_type": "execute_result"
    }
   ],
   "source": [
    "catalog.add_items(Item(title=\"Банкетка Аймо Cozy Milk\",\n",
    "                       pronunciation=\"банкетка аймо кози милк\",\n",
    "                       metadata={}))"
   ]
  },
  {
   "cell_type": "code",
   "execution_count": 5,
   "id": "9e3b73af-285b-4295-b18a-1b79035cfb4c",
   "metadata": {},
   "outputs": [
    {
     "data": {
      "text/plain": [
       "[Item(title='Банкетка Аймо Cozy Milk', pronunciation='банкетка аймо кози милк', metadata={}, id='6842bf12cd3c8262cc94f12c')]"
      ]
     },
     "execution_count": 5,
     "metadata": {},
     "output_type": "execute_result"
    }
   ],
   "source": [
    "catalog.list_items()"
   ]
  },
  {
   "cell_type": "code",
   "execution_count": null,
   "id": "4cb389e1-ee99-4b54-8e75-a902b921bb7e",
   "metadata": {},
   "outputs": [],
   "source": []
  }
 ],
 "metadata": {
  "kernelspec": {
   "display_name": "Python 3 (ipykernel)",
   "language": "python",
   "name": "python3"
  },
  "language_info": {
   "codemirror_mode": {
    "name": "ipython",
    "version": 3
   },
   "file_extension": ".py",
   "mimetype": "text/x-python",
   "name": "python",
   "nbconvert_exporter": "python",
   "pygments_lexer": "ipython3",
   "version": "3.10.15"
  }
 },
 "nbformat": 4,
 "nbformat_minor": 5
}
